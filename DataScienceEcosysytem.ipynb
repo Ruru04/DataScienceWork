{
  "nbformat": 4,
  "nbformat_minor": 0,
  "metadata": {
    "colab": {
      "provenance": [],
      "authorship_tag": "ABX9TyOj0wJFEBVxqbsXCMdS9RpF",
      "include_colab_link": true
    },
    "kernelspec": {
      "name": "python3",
      "display_name": "Python 3"
    },
    "language_info": {
      "name": "python"
    }
  },
  "cells": [
    {
      "cell_type": "markdown",
      "metadata": {
        "id": "view-in-github",
        "colab_type": "text"
      },
      "source": [
        "<a href=\"https://colab.research.google.com/github/Ruru04/DataScienceWork/blob/main/DataScienceEcosysytem.ipynb\" target=\"_parent\"><img src=\"https://colab.research.google.com/assets/colab-badge.svg\" alt=\"Open In Colab\"/></a>"
      ]
    },
    {
      "cell_type": "markdown",
      "source": [
        "# Data Science Tools and Ecosystem"
      ],
      "metadata": {
        "id": "Dk6PIV9Wait5"
      }
    },
    {
      "cell_type": "markdown",
      "source": [
        "In this notebook, Data Science Tools and Ecosystem are summarized."
      ],
      "metadata": {
        "id": "f1PvmEdjbptV"
      }
    },
    {
      "cell_type": "markdown",
      "source": [
        "**Objectives**\n",
        "\n",
        "\n",
        "*   Popular languages used for Data science\n",
        "*   Commonly used Libraries\n",
        "*   Data science Tools \n",
        "*   Examples of evaluating arithmetic exprections \n",
        "\n",
        "\n",
        "\n"
      ],
      "metadata": {
        "id": "NB9roUBmzX3v"
      }
    },
    {
      "cell_type": "markdown",
      "source": [
        "Some of the popular languages that Data Scientists use are:\n",
        "\n",
        "\n",
        "1.   R\n",
        "2.   Python\n",
        "3.   SQL\n",
        "\n",
        "\n",
        "\n",
        "\n"
      ],
      "metadata": {
        "id": "zK38JtOvcGM0"
      }
    },
    {
      "cell_type": "markdown",
      "source": [
        "Some of the commonly used libraries used by Data Scientists include:\n",
        "\n",
        "1.   Pandas\n",
        "2.   Matplotlib\n",
        "3.   Scikit-Learn\n",
        "   \n",
        "\n",
        "\n",
        "\n"
      ],
      "metadata": {
        "id": "ZGNOxnbbcwof"
      }
    },
    {
      "cell_type": "markdown",
      "source": [
        "| Data Science Tools | \n",
        "| -------------| \n",
        "| RStudio| \n",
        "| Apache Hadoop | \n",
        "| Tensorflow |\n",
        "\n"
      ],
      "metadata": {
        "id": "aua9gthdeNaZ"
      }
    },
    {
      "cell_type": "markdown",
      "source": [
        "### Below are a few examples of evaluating arithmetic expressions in Python\n",
        "\n",
        "\n"
      ],
      "metadata": {
        "id": "_dmXHDO2wgyJ"
      }
    },
    {
      "cell_type": "code",
      "source": [
        "## This a simple arithmetic expression to mutiply then add integers\n",
        "(3*4)+5"
      ],
      "metadata": {
        "colab": {
          "base_uri": "https://localhost:8080/"
        },
        "id": "j3fZQnPdxzDj",
        "outputId": "986d3243-ca10-4f9a-f4c3-a5a1d85e8107"
      },
      "execution_count": 1,
      "outputs": [
        {
          "output_type": "execute_result",
          "data": {
            "text/plain": [
              "17"
            ]
          },
          "metadata": {},
          "execution_count": 1
        }
      ]
    },
    {
      "cell_type": "code",
      "source": [
        "## This will convert 200 minutes to hours by diving by 60\n",
        "\n",
        "200/ 60"
      ],
      "metadata": {
        "colab": {
          "base_uri": "https://localhost:8080/"
        },
        "id": "pvrSFhIQyaIN",
        "outputId": "4e4e613a-15b0-47b2-8f91-18150f1eee19"
      },
      "execution_count": 2,
      "outputs": [
        {
          "output_type": "execute_result",
          "data": {
            "text/plain": [
              "3.3333333333333335"
            ]
          },
          "metadata": {},
          "execution_count": 2
        }
      ]
    },
    {
      "cell_type": "markdown",
      "source": [
        "## Author\n",
        "Rutendo Macherera"
      ],
      "metadata": {
        "id": "V7ojETyD0brD"
      }
    }
  ]
}